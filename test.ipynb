{
 "cells": [
  {
   "cell_type": "code",
   "execution_count": 1,
   "metadata": {},
   "outputs": [],
   "source": [
    "import numpy as np\n",
    "\n",
    "input_path = \"C:\\\\Users\\\\No\\\\Downloads\\\\temp\\\\video_results.npz\""
   ]
  },
  {
   "cell_type": "code",
   "execution_count": 2,
   "metadata": {},
   "outputs": [],
   "source": [
    "frame_results = np.load(input_path, allow_pickle=True)['results'][()]\n",
    "# sequence_results = np.load(input_path, allow_pickle=True)['sequence_results'][()] "
   ]
  },
  {
   "cell_type": "code",
   "execution_count": 8,
   "metadata": {},
   "outputs": [],
   "source": [
    "frame_names = sorted(list(frame_results.keys()))"
   ]
  },
  {
   "cell_type": "code",
   "execution_count": 12,
   "metadata": {},
   "outputs": [],
   "source": [
    "poses, trans = np.zeros((len(frame_names), 72)), np.zeros((len(frame_names), 3))\n",
    "for idx, frame_name in enumerate(frame_names):\n",
    "    poses[idx] = frame_results[frame_name]['smpl_thetas'][0]\n",
    "    trans[idx] = frame_results[frame_name]['cam_trans'][0]"
   ]
  },
  {
   "cell_type": "code",
   "execution_count": null,
   "metadata": {},
   "outputs": [],
   "source": [
    "print(len(poses[0]))\n",
    "print(len(trans[0]))"
   ]
  },
  {
   "cell_type": "code",
   "execution_count": null,
   "metadata": {},
   "outputs": [],
   "source": [
    "bone_name_from_index_character = {\n",
    "    0 : 'Hips',\n",
    "    3 : 'Spine',\n",
    "    6 : 'Spine1',\n",
    "    9: 'Spine2',\n",
    "    12: 'Neck',\n",
    "    15: 'Head',\n",
    "    16: 'LeftShoulder',\n",
    "    18: 'LeftArm',\n",
    "    20: 'LeftForeArm',\n",
    "    1 : 'RightUpLeg',\n",
    "    2 : 'LeftUpLeg',\n",
    "    22: 'LeftHand',\n",
    "    13: 'LeftHandIndex1',\n",
    "    4 : 'RightLeg',\n",
    "    5 : 'LeftLeg',\n",
    "    7 : 'RightFoot',\n",
    "    8: 'LeftFoot',\n",
    "    10: 'LeftToeBase',\n",
    "    11: 'RightToeBase',\n",
    "    14: 'RightHandIndex1',\n",
    "    17: 'RightShoulder',\n",
    "    19: 'RightArm',\n",
    "    21: 'RightForeArm',\n",
    "    23: 'RightHand'\n",
    "}"
   ]
  }
 ],
 "metadata": {
  "kernelspec": {
   "display_name": "Python 3.8.11 ('base')",
   "language": "python",
   "name": "python3"
  },
  "language_info": {
   "codemirror_mode": {
    "name": "ipython",
    "version": 3
   },
   "file_extension": ".py",
   "mimetype": "text/x-python",
   "name": "python",
   "nbconvert_exporter": "python",
   "pygments_lexer": "ipython3",
   "version": "3.8.11"
  },
  "orig_nbformat": 4,
  "vscode": {
   "interpreter": {
    "hash": "af8e2bc38c47ad2eb2801b8a1df8ba266ffc32d6dc21ae3dca26080e3882f8b5"
   }
  }
 },
 "nbformat": 4,
 "nbformat_minor": 2
}
